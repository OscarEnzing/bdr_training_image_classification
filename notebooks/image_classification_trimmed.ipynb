{
 "cells": [
  {
   "cell_type": "markdown",
   "metadata": {},
   "source": [
    "# Hands-on data engineering Vantage AI\n",
    "\n",
    "Deze sessie gaan we neurale netwerken trainen om simpele images te classificeren van de CIFAR-10 dataset. \n",
    "\n",
    "## Dependency management\n",
    "Deze notebook gaat er vanuit dat je de volgende python dependencies geïnstalleerd hebt:\n",
    "- Jupyter\n",
    "- Tensorflow\n",
    "- Keras\n",
    "- Matplotlib\n",
    "- SKLearn\n",
    "\n",
    "Opdracht: _Schrijf een `requirements.txt` waarmee de requirements van deze notebook makkelijk geïnstalleerd kunnen worden._\n",
    "\n",
    "## Data inladen\n",
    "\n",
    "De data bestaat uit 3 delen: train, validatie en test set.\n",
    "\n",
    "Opdracht: _Er is veel herhaling in deze code. Splits dit op in leesbare en herbruikbare code. Denk hierbij aan de engineering principes die we hebben behandeld._"
   ]
  },
  {
   "cell_type": "code",
   "execution_count": 2,
   "metadata": {},
   "outputs": [],
   "source": [
    "import numpy as np\n",
    "import os\n",
    "import tarfile\n",
    "from urllib.request import urlretrieve\n",
    "import pickle\n",
    "import random\n",
    "\n",
    "\n",
    "def load_data(verbose=True):\n",
    "    dataset_dir_base = _get_dataset_dir_base_path()\n",
    "    dataset_dir = _get_dataset_dir_path()\n",
    "    download_data(dataset_dir_base, dataset_dir)\n",
    "    \n",
    "    no_of_batches = 4\n",
    "    no_of_samples = 10000\n",
    "    train_X, train_y = get_train_sets(dataset_dir, no_of_batches, no_of_samples)\n",
    "    val_X, val_y = get_validation_set(dataset_dir)\n",
    "    test_X, test_y = get_test_set(dataset_dir)\n",
    "    label_to_names = get_label_to_names(dataset_dir)\n",
    "    \n",
    "    if verbose:\n",
    "        print(\"training set size: data = {}, labels = {}\".format(train_X.shape, train_y.shape))\n",
    "        print(\"validation set size: data = {}, labels = {}\".format(val_X.shape, val_y.shape))\n",
    "\n",
    "        print(\"Test set size: data = \"+str(test_X.shape)+\", labels = \"+str(test_y.shape))\n",
    "    \n",
    "    return train_X, train_y, val_X, val_y, test_X, test_y, label_to_names\n",
    "\n",
    "def _get_dataset_dir_base_path():\n",
    "    return os.path.join(os.getcwd(), \"..\", \"data\", \"raw\")\n",
    "\n",
    "def _get_dataset_dir_path():\n",
    "    dataset_dir_base = _get_dataset_dir_base_path()\n",
    "    return os.path.join(dataset_dir_base, \"cifar-10-batches-py\")\n",
    "\n",
    "def download_data(output_dir, output_path):    \n",
    "    if not os.path.exists(output_path):\n",
    "        print(\"Downloading data...\")\n",
    "        urlretrieve(\"http://www.cs.toronto.edu/~kriz/cifar-10-python.tar.gz\", os.path.join(output_dir, \"cifar-10-python.tar.gz\"))\n",
    "        tar = tarfile.open(os.path.join(output_dir, \"cifar-10-python.tar.gz\"))\n",
    "        tar.extractall(output_dir)\n",
    "        tar.close()\n",
    "    \n",
    "def get_train_sets(dataset_dir, no_of_batches, n_samples):\n",
    "    sample_size = no_of_batches*n_samples\n",
    "    train_X = np.zeros((sample_size, 3, 32, 32), dtype=\"float32\")\n",
    "    train_y = np.zeros((sample_size, 1), dtype=\"ubyte\").flatten()\n",
    "    \n",
    "    for i in range(0, no_of_batches):\n",
    "        cifar_batch = _get_cifar_dict(dataset_dir, dict_name=\"data_batch_\"+str(i+1))\n",
    "        train_X[i*n_samples:(i+1)*n_samples] = (cifar_batch['data'].reshape(-1, 3, 32, 32) / 255.).astype(\"float32\")\n",
    "        train_y[i*n_samples:(i+1)*n_samples] = np.array(cifar_batch['labels'], dtype='ubyte')\n",
    "        \n",
    "    return train_X, train_y\n",
    "\n",
    "def get_validation_set(dataset_dir):\n",
    "    cifar_batch_5 = _get_cifar_dict(dataset_dir, dict_name=\"data_batch_5\")\n",
    "    val_X = (cifar_batch_5['data'].reshape(-1, 3, 32, 32) / 255.).astype(\"float32\")\n",
    "    val_y = np.array(cifar_batch_5['labels'], dtype='ubyte')\n",
    "    return val_X, val_y\n",
    "\n",
    "def get_label_to_names(dataset_dir):\n",
    "    cifar_dict = _get_cifar_dict(dataset_dir, dict_name=\"batches.meta\")\n",
    "    label_to_names = {k:v for k, v in zip(range(10), cifar_dict['label_names'])}\n",
    "    return label_to_names\n",
    "\n",
    "def get_test_set(dataset_dir):\n",
    "    cifar_test = _get_cifar_dict(dataset_dir, dict_name=\"test_batch\")\n",
    "\n",
    "    test_X = (cifar_test['data'].reshape(-1, 3, 32, 32) / 255.).astype(\"float32\")\n",
    "    test_y = np.array(cifar_test['labels'], dtype='ubyte')\n",
    "    return test_X, test_y\n",
    "\n",
    "def _get_cifar_dict(dataset_dir, dict_name):\n",
    "    with open(os.path.join(dataset_dir, dict_name), \"rb\") as f:\n",
    "        cifar_dict = pickle.load(f, encoding=\"latin1\")\n",
    "    return cifar_dict"
   ]
  },
  {
   "cell_type": "code",
   "execution_count": null,
   "metadata": {},
   "outputs": [],
   "source": []
  },
  {
   "cell_type": "markdown",
   "metadata": {
    "collapsed": true
   },
   "source": [
    "### Preprocessing\n",
    "Bij CIFAR10 is er niet veel preprocessing nodig. Normalisatie van de data is vaak een goed idee, vantevoren berekenen we de gemiddelde pixelwaarde en bij het batchgewijs trainen normaliseren we de data aan de hand van die waarde. Het is een goed idee om deze mean in een pickle bestand op te slaan, en die dan in te laden bij het opstarten zodat voor predicten niet de hele dataset nodig is. "
   ]
  },
  {
   "cell_type": "code",
   "execution_count": 12,
   "metadata": {},
   "outputs": [
    {
     "name": "stdout",
     "output_type": "stream",
     "text": [
      "training set size: data = (40000, 3, 32, 32), labels = (40000,)\n",
      "validation set size: data = (10000, 3, 32, 32), labels = (10000,)\n",
      "Test set size: data = (10000, 3, 32, 32), labels = (10000,)\n"
     ]
    }
   ],
   "source": [
    "# PREPROCESS\n",
    "\n",
    "\n",
    "train_X, train_y, val_X, val_y, test_X, test_y, label_to_names = load_data()\n",
    "\n",
    "# Conv nets trainen duurt erg lang op CPU, dus we gebruiken maar een klein deel\n",
    "# van de data nu, als er tijd over is kan je proberen je netwerk op de volledige set te runnen\n",
    "train_X = train_X[:10000]\n",
    "train_y = train_y[:10000]\n",
    "\n",
    "def calc_mean_std(X):\n",
    "    mean = np.mean(X)\n",
    "    std = np.std(X)\n",
    "    return mean, std\n",
    "\n",
    "def normalize(data, mean, std):\n",
    "    return (data-mean)/std\n",
    "\n",
    "#De data van train_X is genoeg om de mean en std van de hele set nauwkeurig te benaderen\n",
    "mean,std = calc_mean_std(train_X)\n",
    "test_X = normalize(test_X,mean,std)\n",
    "val_X = normalize(val_X,mean,std)\n",
    "train_X = normalize(train_X ,mean,std)\n"
   ]
  },
  {
   "cell_type": "code",
   "execution_count": null,
   "metadata": {},
   "outputs": [],
   "source": [
    "train_X.shape"
   ]
  },
  {
   "cell_type": "markdown",
   "metadata": {},
   "source": [
    "# Definieer model\n",
    "We gebruiken de volledige images om een convolutioneel neuraal netwerk te definieren en te trainen. Alhoewel de data science niet de focus heeft in deze cursus is het wel belangrijk om te begrijpen wat er gebeurt, dus schroom niet ook vragen te stellen over het model."
   ]
  },
  {
   "cell_type": "code",
   "execution_count": 6,
   "metadata": {},
   "outputs": [
    {
     "name": "stdout",
     "output_type": "stream",
     "text": [
      "Train on 10000 samples, validate on 10000 samples\n",
      "Epoch 1/1\n",
      " - 39s - loss: 1.7260 - acc: 0.3787 - val_loss: 1.4962 - val_acc: 0.4775\n"
     ]
    },
    {
     "data": {
      "text/plain": [
       "<keras.callbacks.History at 0x13c6e6080>"
      ]
     },
     "execution_count": 6,
     "metadata": {},
     "output_type": "execute_result"
    }
   ],
   "source": [
    "from keras.models import Model\n",
    "from keras.layers import Dense, Flatten, Conv2D, Dropout, MaxPooling2D, Input\n",
    "from sklearn.metrics import classification_report\n",
    "\n",
    "def conv_net():\n",
    "    # We definieren de input van het netwerk als de shape van de input,\n",
    "    # minus de dimensie van het aantal plaatjes, uiteindelijk dus (3, 32, 32).\n",
    "    input = Input(shape=train_X.shape[1:])\n",
    "    \n",
    "    # Eerste convolutielaag\n",
    "    # Padding valid betekent dat we enkel volledige convoluties gebruiken, zonder padding\n",
    "    # Data format channels_first betekent dat de channels eerst komen, en dan pas de size van ons plaatje\n",
    "    # Dus (3, 32, 32) in plaats van (32, 32, 3)\n",
    "    conv = Conv2D(filters=16, kernel_size=(3,3), padding='valid',\n",
    "                  data_format='channels_first', activation='relu')(input)\n",
    "    \n",
    "    # Nog een convolutielaag, dit keer met stride=2 om de inputsize te verkleinen\n",
    "    conv = Conv2D(filters=32, kernel_size=(3,3), padding='valid',\n",
    "                  data_format='channels_first', activation='relu', strides=(2, 2))(conv)\n",
    "    \n",
    "    #Voeg een flatten laag toe, om te schakelen naar de dense layer\n",
    "    flatten = Flatten()(conv)\n",
    "   \n",
    "    # De softmax laag voor de probabilities \n",
    "    nr_classes=10\n",
    "    output_layer = Dense(units=nr_classes, activation='softmax')(flatten)\n",
    "    \n",
    "    model = Model(inputs=input, outputs=output_layer)\n",
    "    \n",
    "    # Het model moet nog gecompiled worden en loss+learning functie gespecificeerd worden\n",
    "    model.compile(loss='sparse_categorical_crossentropy', optimizer='adam', metrics=['accuracy'])\n",
    "    \n",
    "    return model\n",
    "\n",
    "\n",
    "model = conv_net()\n",
    "\n",
    "model.fit(x=train_X, y=train_y, batch_size=50, epochs=1, validation_data=(val_X, val_y), verbose=2)\n"
   ]
  },
  {
   "cell_type": "code",
   "execution_count": 14,
   "metadata": {},
   "outputs": [
    {
     "name": "stdout",
     "output_type": "stream",
     "text": [
      "Accuracy = 0.4834\n",
      "             precision    recall  f1-score   support\n",
      "\n",
      "   airplane       0.60      0.46      0.52      1000\n",
      " automobile       0.63      0.58      0.60      1000\n",
      "       bird       0.38      0.41      0.40      1000\n",
      "        cat       0.40      0.32      0.36      1000\n",
      "       deer       0.45      0.26      0.33      1000\n",
      "        dog       0.45      0.32      0.37      1000\n",
      "       frog       0.46      0.66      0.54      1000\n",
      "      horse       0.41      0.67      0.51      1000\n",
      "       ship       0.57      0.64      0.60      1000\n",
      "      truck       0.54      0.52      0.53      1000\n",
      "\n",
      "avg / total       0.49      0.48      0.48     10000\n",
      "\n"
     ]
    }
   ],
   "source": [
    "# PREDICT\n",
    "predictions = np.array(model.predict(test_X, batch_size=100))\n",
    "# test_y = np.array(test_y, dtype=np.int32)\n",
    "#Take the highest prediction\n",
    "predictions = np.argmax(predictions, axis=1)\n",
    "\n",
    "#Print resultaten\n",
    "print(\"Accuracy = {}\".format(np.sum(predictions == test_y) / float(len(predictions))))\n",
    "print(classification_report(test_y, predictions, target_names=list(label_to_names.values())))"
   ]
  },
  {
   "cell_type": "code",
   "execution_count": 13,
   "metadata": {},
   "outputs": [
    {
     "name": "stdout",
     "output_type": "stream",
     "text": [
      "Accuracy = 0.4834\n",
      "             precision    recall  f1-score   support\n",
      "\n",
      "   airplane       0.60      0.46      0.52      1000\n",
      " automobile       0.63      0.58      0.60      1000\n",
      "       bird       0.38      0.41      0.40      1000\n",
      "        cat       0.40      0.32      0.36      1000\n",
      "       deer       0.45      0.26      0.33      1000\n",
      "        dog       0.45      0.32      0.37      1000\n",
      "       frog       0.46      0.66      0.54      1000\n",
      "      horse       0.41      0.67      0.51      1000\n",
      "       ship       0.57      0.64      0.60      1000\n",
      "      truck       0.54      0.52      0.53      1000\n",
      "\n",
      "avg / total       0.49      0.48      0.48     10000\n",
      "\n"
     ]
    }
   ],
   "source": [
    "# PREDICT\n",
    "predictions = np.array(model.predict(test_X, batch_size=100))\n",
    "# test_y = np.array(test_y, dtype=np.int32)\n",
    "#Take the highest prediction\n",
    "predictions = np.argmax(predictions, axis=1)\n",
    "\n",
    "#Print resultaten\n",
    "print(\"Accuracy = {}\".format(np.sum(predictions == test_y) / float(len(predictions))))\n",
    "print(classification_report(test_y, predictions, target_names=list(label_to_names.values())))"
   ]
  },
  {
   "cell_type": "code",
   "execution_count": 11,
   "metadata": {},
   "outputs": [
    {
     "ename": "TypeError",
     "evalue": "classification_report() got an unexpected keyword argument 'output_dict'",
     "output_type": "error",
     "traceback": [
      "\u001b[0;31m---------------------------------------------------------------------------\u001b[0m",
      "\u001b[0;31mTypeError\u001b[0m                                 Traceback (most recent call last)",
      "\u001b[0;32m<ipython-input-11-f3d0f639c871>\u001b[0m in \u001b[0;36m<module>\u001b[0;34m()\u001b[0m\n\u001b[0;32m----> 1\u001b[0;31m \u001b[0mclassification_report\u001b[0m\u001b[0;34m(\u001b[0m\u001b[0mtest_y\u001b[0m\u001b[0;34m,\u001b[0m \u001b[0mpredictions\u001b[0m\u001b[0;34m,\u001b[0m \u001b[0mtarget_names\u001b[0m\u001b[0;34m=\u001b[0m\u001b[0mlist\u001b[0m\u001b[0;34m(\u001b[0m\u001b[0mlabel_to_names\u001b[0m\u001b[0;34m.\u001b[0m\u001b[0mvalues\u001b[0m\u001b[0;34m(\u001b[0m\u001b[0;34m)\u001b[0m\u001b[0;34m)\u001b[0m\u001b[0;34m,\u001b[0m \u001b[0moutput_dict\u001b[0m\u001b[0;34m=\u001b[0m\u001b[0;32mTrue\u001b[0m\u001b[0;34m)\u001b[0m\u001b[0;34m\u001b[0m\u001b[0;34m\u001b[0m\u001b[0m\n\u001b[0m",
      "\u001b[0;31mTypeError\u001b[0m: classification_report() got an unexpected keyword argument 'output_dict'"
     ]
    }
   ],
   "source": [
    "classification_report(test_y, predictions, target_names=list(label_to_names.values()), output_dict=True)"
   ]
  },
  {
   "cell_type": "code",
   "execution_count": null,
   "metadata": {},
   "outputs": [],
   "source": [
    "model.summary()"
   ]
  },
  {
   "cell_type": "markdown",
   "metadata": {},
   "source": [
    "## Opdracht\n",
    "Wat we graag willen is deze notebook uitgewerkt in een package met het cookiecutter template. We willen dan graag een splitsing tussen het trainingsdeel en het scoring deel. \n",
    "\n",
    "Het trainingsdeel levert een model en eventuele metadata op (opgeslagen op disk).  \n",
    "Het scoringsdeel gebruikt het model om de testset te predicten.  \n",
    "Runnen met: `python <filename> 'scoring'` of `python <filename> 'training'`\n",
    "\n",
    "Gebruik goede error handling voor bijvoorbeeld het predicten zonder model, of een verkeerd argument meegeven."
   ]
  },
  {
   "cell_type": "code",
   "execution_count": 17,
   "metadata": {},
   "outputs": [
    {
     "data": {
      "text/plain": [
       "'1.13.3'"
      ]
     },
     "execution_count": 17,
     "metadata": {},
     "output_type": "execute_result"
    }
   ],
   "source": [
    "np.__version__"
   ]
  },
  {
   "cell_type": "code",
   "execution_count": 20,
   "metadata": {},
   "outputs": [
    {
     "data": {
      "text/plain": [
       "['.gitkeep', 'finalized_model.pickle']"
      ]
     },
     "execution_count": 20,
     "metadata": {},
     "output_type": "execute_result"
    }
   ],
   "source": [
    "os.listdir('../models')"
   ]
  },
  {
   "cell_type": "code",
   "execution_count": 22,
   "metadata": {},
   "outputs": [],
   "source": [
    "model = pickle.load(open('../models/finalized_model.pickle', 'rb'))\n",
    "model"
   ]
  },
  {
   "cell_type": "code",
   "execution_count": 23,
   "metadata": {},
   "outputs": [
    {
     "data": {
      "text/plain": [
       "NoneType"
      ]
     },
     "execution_count": 23,
     "metadata": {},
     "output_type": "execute_result"
    }
   ],
   "source": [
    "type(model)"
   ]
  },
  {
   "cell_type": "code",
   "execution_count": null,
   "metadata": {},
   "outputs": [],
   "source": []
  }
 ],
 "metadata": {
  "kernelspec": {
   "display_name": "Python 3",
   "language": "python",
   "name": "python3"
  },
  "language_info": {
   "codemirror_mode": {
    "name": "ipython",
    "version": 3
   },
   "file_extension": ".py",
   "mimetype": "text/x-python",
   "name": "python",
   "nbconvert_exporter": "python",
   "pygments_lexer": "ipython3",
   "version": "3.6.8"
  }
 },
 "nbformat": 4,
 "nbformat_minor": 2
}
